{
    "metadata": {
        "kernelspec": {
            "name": "python3",
            "display_name": "Python 3 (ipykernel)",
            "language": "python"
        }
    },
    "nbformat": 4,
    "nbformat_minor": 2,
    "cells": [
        {
            "cell_type": "code",
            "execution_count": 19,
            "metadata": {},
            "outputs": [],
            "source": [
                "import numpy as np\n",
                "import matplotlib.pyplot as plt\n",
                "import scipy.stats as spst"
            ]
        },
        {
            "cell_type": "code",
            "execution_count": 20,
            "metadata": {},
            "outputs": [],
            "source": [
                "# K-armed Bernoulli bandit\n",
                "# means: List of reward means \n",
                "# strat: epsilon-greedy (0) or UCB (1)\n",
                "# M rounds of simulation, each for T timesteps\n",
                "\n",
                "def bernoulli_bandit(means, strat, param, M, T):\n",
                "    best = np.argmax(means)\n",
                "    K = len(means)\n",
                "\n",
                "    regrets = np.zeros((M,T))\n",
                "    bestArmFreq = np.zeros((M,T))\n",
                "    bestArmQ = np.zeros((M,T))\n",
                "\n",
                "    for m in range(M):\n",
                "        # Keep track of action values and action counts\n",
                "        Q = np.zeros(K)\n",
                "        N = np.zeros(K)\n",
                "\n",
                "        for t in range(T):\n",
                "            # Action selection depending on strategy\n",
                "            if strat == 0:\n",
                "                if np.random.random() \u003c param:\n",
                "                    arm = np.random.randint(0, K)\n",
                "                else: \n",
                "                    arm = np.argmax(Q)\n",
                "            else:                \n",
                "                 arm = np.argmax(Q+param*np.sqrt(np.log(t+1)/(N+1)))\n",
                "\n",
                "            # Reward and Q value update\n",
                "            reward = np.random.binomial(1, means[arm])\n",
                "            N[arm] += 1\n",
                "            Q[arm] += 1/N[arm]*(reward-Q[arm])\n",
                "\n",
                "            # Track frequency of choosing best arm and actual regret\n",
                "            if arm == best:\n",
                "                regrets[m,t] = 0\n",
                "            else:\n",
                "                regrets[m,t] = np.random.binomial(1,means[best])-reward\n",
                "            bestArmFreq[m,t] = N[best]/(t+1)\n",
                "            bestArmQ[m,t] = Q[best]\n",
                "\n",
                "    return np.mean(regrets,axis=0), np.mean(bestArmFreq,axis=0)"
            ]
        },
        {
            "cell_type": "code",
            "execution_count": 21,
            "metadata": {},
            "outputs": [],
            "source": [
                "def execute(means, strat, params=[0.1,0.2,0.3], M=100, T=10000):\n",
                "    f = plt.figure()\n",
                "    ax1 = f.add_subplot(211)\n",
                "    ax2 = f.add_subplot(212,sharex=ax1)\n",
                "\n",
                "    for p in params:\n",
                "        regrets, bestArmFreq = bernoulli_bandit(means, strat, p, M, T)\n",
                "        if strat == 0:\n",
                "            ax1.plot(np.cumsum(regrets), label=\"e=%.2f\"%p)\n",
                "        else:\n",
                "            ax1.plot(np.cumsum(regrets), label=\"c=%.2f\"%p)\n",
                "        ax2.plot(bestArmFreq)\n",
                "\n",
                "    ax1.set_xscale('log',base=10)\n",
                "    ax1.set_title(\"cumulative regret\")\n",
                "    ax2.set_title(\"percentage best arm played\")\n",
                "    f.legend()\n",
                "    f.tight_layout()\n",
                "    f.show()"
            ]
        }
    ]
}
